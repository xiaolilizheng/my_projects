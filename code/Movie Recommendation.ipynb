{
 "cells": [
  {
   "cell_type": "code",
   "execution_count": 74,
   "id": "30edbb1d",
   "metadata": {},
   "outputs": [
    {
     "data": {
      "text/html": [
       "\n",
       "            <div>\n",
       "                <p><b>SparkSession - in-memory</b></p>\n",
       "                \n",
       "        <div>\n",
       "            <p><b>SparkContext</b></p>\n",
       "\n",
       "            <p><a href=\"http://192.168.1.40:4040\">Spark UI</a></p>\n",
       "\n",
       "            <dl>\n",
       "              <dt>Version</dt>\n",
       "                <dd><code>v3.3.2</code></dd>\n",
       "              <dt>Master</dt>\n",
       "                <dd><code>local[*]</code></dd>\n",
       "              <dt>AppName</dt>\n",
       "                <dd><code>pyspark-shell</code></dd>\n",
       "            </dl>\n",
       "        </div>\n",
       "        \n",
       "            </div>\n",
       "        "
      ],
      "text/plain": [
       "<pyspark.sql.session.SparkSession at 0x7ff786810400>"
      ]
     },
     "execution_count": 74,
     "metadata": {},
     "output_type": "execute_result"
    }
   ],
   "source": [
    "import findspark\n",
    "findspark.init()\n",
    "findspark.find()\n",
    "from pyspark.sql import SparkSession\n",
    "spark = SparkSession.builder.master(\"local[*]\").getOrCreate()\n",
    "spark"
   ]
  },
  {
   "cell_type": "code",
   "execution_count": 3,
   "id": "9353062e",
   "metadata": {},
   "outputs": [],
   "source": [
    "import numpy as np\n",
    "import pandas as pd\n",
    "import seaborn as sns\n",
    "import matplotlib.pyplot as plt\n",
    "import math\n",
    "%matplotlib inline"
   ]
  },
  {
   "cell_type": "markdown",
   "id": "dda6b771",
   "metadata": {},
   "source": [
    "# Part 1 Datasets"
   ]
  },
  {
   "cell_type": "code",
   "execution_count": 4,
   "id": "847136b9",
   "metadata": {},
   "outputs": [],
   "source": [
    "#read data\n",
    "movies_df = spark.read.load('/Users/zheng/Desktop/dataset/ml-latest-small/movies.csv', format='CSV', header = True)\n",
    "ratings_df = spark.read.load('/Users/zheng/Desktop/dataset/ml-latest-small/ratings.csv', format='CSV', header = True)\n",
    "links_df = spark.read.load('/Users/zheng/Desktop/dataset/ml-latest-small/links.csv', format='CSV', header = True)\n",
    "tags_df = spark.read.load('/Users/zheng/Desktop/dataset/ml-latest-small/tags.csv', format='CSV', header = True)"
   ]
  },
  {
   "cell_type": "code",
   "execution_count": 5,
   "id": "79211696",
   "metadata": {},
   "outputs": [
    {
     "name": "stdout",
     "output_type": "stream",
     "text": [
      "+-------+--------------------+--------------------+\n",
      "|movieId|               title|              genres|\n",
      "+-------+--------------------+--------------------+\n",
      "|      1|    Toy Story (1995)|Adventure|Animati...|\n",
      "|      2|      Jumanji (1995)|Adventure|Childre...|\n",
      "|      3|Grumpier Old Men ...|      Comedy|Romance|\n",
      "|      4|Waiting to Exhale...|Comedy|Drama|Romance|\n",
      "|      5|Father of the Bri...|              Comedy|\n",
      "+-------+--------------------+--------------------+\n",
      "only showing top 5 rows\n",
      "\n"
     ]
    }
   ],
   "source": [
    "movies_df.show(5)"
   ]
  },
  {
   "cell_type": "code",
   "execution_count": 6,
   "id": "20f60d5e",
   "metadata": {},
   "outputs": [
    {
     "name": "stdout",
     "output_type": "stream",
     "text": [
      "+------+-------+------+---------+\n",
      "|userId|movieId|rating|timestamp|\n",
      "+------+-------+------+---------+\n",
      "|     1|      1|   4.0|964982703|\n",
      "|     1|      3|   4.0|964981247|\n",
      "|     1|      6|   4.0|964982224|\n",
      "|     1|     47|   5.0|964983815|\n",
      "|     1|     50|   5.0|964982931|\n",
      "+------+-------+------+---------+\n",
      "only showing top 5 rows\n",
      "\n"
     ]
    }
   ],
   "source": [
    "ratings_df.show(5)"
   ]
  },
  {
   "cell_type": "code",
   "execution_count": 7,
   "id": "d8e87b12",
   "metadata": {},
   "outputs": [
    {
     "name": "stdout",
     "output_type": "stream",
     "text": [
      "+-------+-------+------+\n",
      "|movieId| imdbId|tmdbId|\n",
      "+-------+-------+------+\n",
      "|      1|0114709|   862|\n",
      "|      2|0113497|  8844|\n",
      "|      3|0113228| 15602|\n",
      "|      4|0114885| 31357|\n",
      "|      5|0113041| 11862|\n",
      "+-------+-------+------+\n",
      "only showing top 5 rows\n",
      "\n"
     ]
    }
   ],
   "source": [
    "links_df.show(5)"
   ]
  },
  {
   "cell_type": "code",
   "execution_count": 8,
   "id": "20d8204a",
   "metadata": {},
   "outputs": [
    {
     "name": "stdout",
     "output_type": "stream",
     "text": [
      "+------+-------+---------------+----------+\n",
      "|userId|movieId|            tag| timestamp|\n",
      "+------+-------+---------------+----------+\n",
      "|     2|  60756|          funny|1445714994|\n",
      "|     2|  60756|Highly quotable|1445714996|\n",
      "|     2|  60756|   will ferrell|1445714992|\n",
      "|     2|  89774|   Boxing story|1445715207|\n",
      "|     2|  89774|            MMA|1445715200|\n",
      "+------+-------+---------------+----------+\n",
      "only showing top 5 rows\n",
      "\n"
     ]
    }
   ],
   "source": [
    "tags_df.show(5)"
   ]
  },
  {
   "cell_type": "markdown",
   "id": "9999238c",
   "metadata": {},
   "source": [
    "# Part 2 Spark SQL and Online Analytical Processing"
   ]
  },
  {
   "cell_type": "markdown",
   "id": "be2bc64f",
   "metadata": {},
   "source": [
    "## The number of users"
   ]
  },
  {
   "cell_type": "code",
   "execution_count": 9,
   "id": "dfd49152",
   "metadata": {},
   "outputs": [
    {
     "data": {
      "text/plain": [
       "610"
      ]
     },
     "execution_count": 9,
     "metadata": {},
     "output_type": "execute_result"
    }
   ],
   "source": [
    "ratings_df.select('userID').distinct().count()"
   ]
  },
  {
   "cell_type": "markdown",
   "id": "4594386b",
   "metadata": {},
   "source": [
    "## The number of movies"
   ]
  },
  {
   "cell_type": "code",
   "execution_count": 10,
   "id": "c3be11ec",
   "metadata": {},
   "outputs": [
    {
     "data": {
      "text/plain": [
       "9742"
      ]
     },
     "execution_count": 10,
     "metadata": {},
     "output_type": "execute_result"
    }
   ],
   "source": [
    "movies_df.select('movieID').distinct().count()"
   ]
  },
  {
   "cell_type": "markdown",
   "id": "397b6f79",
   "metadata": {},
   "source": [
    "## How many movies are rated by users? List movies not rated before"
   ]
  },
  {
   "cell_type": "code",
   "execution_count": 11,
   "id": "1abbd72b",
   "metadata": {},
   "outputs": [],
   "source": [
    "movies_df.createOrReplaceTempView('movies_df')\n",
    "ratings_df.createOrReplaceTempView('ratings_df')"
   ]
  },
  {
   "cell_type": "code",
   "execution_count": 12,
   "id": "ec3a5e7e",
   "metadata": {},
   "outputs": [
    {
     "name": "stdout",
     "output_type": "stream",
     "text": [
      "+----------------------+\n",
      "|Number_of_rated_movies|\n",
      "+----------------------+\n",
      "|                  9724|\n",
      "+----------------------+\n",
      "\n"
     ]
    }
   ],
   "source": [
    "# namber of movies rated\n",
    "res_1 = spark.sql(\"\"\"select count(movieID) as Number_of_rated_movies \n",
    "                     from movies_df\n",
    "                     where movieID in (select movieID from ratings_df)\n",
    "\"\"\")\n",
    "res_1.show()"
   ]
  },
  {
   "cell_type": "code",
   "execution_count": 13,
   "id": "e9e5c287",
   "metadata": {},
   "outputs": [
    {
     "name": "stdout",
     "output_type": "stream",
     "text": [
      "+-------+--------------------+--------------------+\n",
      "|movieId|               title|              genres|\n",
      "+-------+--------------------+--------------------+\n",
      "|   1076|Innocents, The (1...|Drama|Horror|Thri...|\n",
      "|   2939|      Niagara (1953)|      Drama|Thriller|\n",
      "|   3338|For All Mankind (...|         Documentary|\n",
      "|   3456|Color of Paradise...|               Drama|\n",
      "|   4194|I Know Where I'm ...|   Drama|Romance|War|\n",
      "|   5721|  Chosen, The (1981)|               Drama|\n",
      "|   6668|Road Home, The (W...|       Drama|Romance|\n",
      "|   6849|      Scrooge (1970)|Drama|Fantasy|Mus...|\n",
      "|   7020|        Proof (1991)|Comedy|Drama|Romance|\n",
      "|   7792|Parallax View, Th...|            Thriller|\n",
      "|   8765|This Gun for Hire...|Crime|Film-Noir|T...|\n",
      "|  25855|Roaring Twenties,...|Crime|Drama|Thriller|\n",
      "|  26085|Mutiny on the Bou...|Adventure|Drama|R...|\n",
      "|  30892|In the Realms of ...|Animation|Documen...|\n",
      "|  32160|Twentieth Century...|              Comedy|\n",
      "|  32371|Call Northside 77...|Crime|Drama|Film-...|\n",
      "|  34482|Browning Version,...|               Drama|\n",
      "|  85565|  Chalet Girl (2011)|      Comedy|Romance|\n",
      "+-------+--------------------+--------------------+\n",
      "\n"
     ]
    }
   ],
   "source": [
    "# movies not rated\n",
    "res_2 = spark.sql(\"\"\"select *\n",
    "                     from movies_df\n",
    "                     where movieID not in (select distinct movieID from ratings_df)\n",
    "\"\"\")\n",
    "res_2.show()"
   ]
  },
  {
   "cell_type": "markdown",
   "id": "51993226",
   "metadata": {},
   "source": [
    "## List movie genres"
   ]
  },
  {
   "cell_type": "code",
   "execution_count": 14,
   "id": "d79ccf4c",
   "metadata": {},
   "outputs": [
    {
     "name": "stdout",
     "output_type": "stream",
     "text": [
      "+------------------+\n",
      "|             genre|\n",
      "+------------------+\n",
      "|(no genres listed)|\n",
      "|            Action|\n",
      "|         Adventure|\n",
      "|         Animation|\n",
      "|          Children|\n",
      "|            Comedy|\n",
      "|             Crime|\n",
      "|       Documentary|\n",
      "|             Drama|\n",
      "|           Fantasy|\n",
      "|         Film-Noir|\n",
      "|            Horror|\n",
      "|              IMAX|\n",
      "|           Musical|\n",
      "|           Mystery|\n",
      "|           Romance|\n",
      "|            Sci-Fi|\n",
      "|          Thriller|\n",
      "|               War|\n",
      "|           Western|\n",
      "+------------------+\n",
      "\n"
     ]
    }
   ],
   "source": [
    "res_3 = spark.sql(\"\"\"select distinct explode(split(genres,'[|]')) as genre\n",
    "                     from movies_df\n",
    "                     order by 1\n",
    "\"\"\")\n",
    "res_3.show()"
   ]
  },
  {
   "cell_type": "markdown",
   "id": "1bad78b7",
   "metadata": {},
   "source": [
    "## Movie for each category"
   ]
  },
  {
   "cell_type": "code",
   "execution_count": 15,
   "id": "44da3f1a",
   "metadata": {},
   "outputs": [
    {
     "name": "stdout",
     "output_type": "stream",
     "text": [
      "+------------------+----------------+\n",
      "|            genres|number_of_movies|\n",
      "+------------------+----------------+\n",
      "|             Drama|            4361|\n",
      "|            Comedy|            3756|\n",
      "|          Thriller|            1894|\n",
      "|            Action|            1828|\n",
      "|           Romance|            1596|\n",
      "|         Adventure|            1263|\n",
      "|             Crime|            1199|\n",
      "|            Sci-Fi|             980|\n",
      "|            Horror|             978|\n",
      "|           Fantasy|             779|\n",
      "|          Children|             664|\n",
      "|         Animation|             611|\n",
      "|           Mystery|             573|\n",
      "|       Documentary|             440|\n",
      "|               War|             382|\n",
      "|           Musical|             334|\n",
      "|           Western|             167|\n",
      "|              IMAX|             158|\n",
      "|         Film-Noir|              87|\n",
      "|(no genres listed)|              34|\n",
      "+------------------+----------------+\n",
      "\n"
     ]
    }
   ],
   "source": [
    "res_4 = spark.sql(\"\"\"select genres, count(movieID) as number_of_movies\n",
    "                     from (select distinct explode(split(genres,'[|]')) as genres, movieID from movies_df)\n",
    "                     group by 1\n",
    "                     order by 2 desc\n",
    "\"\"\")\n",
    "res_4.show()"
   ]
  },
  {
   "cell_type": "markdown",
   "id": "8aaf1faa",
   "metadata": {},
   "source": [
    "# Part 3 Exploratory Data Analysis (EDA)"
   ]
  },
  {
   "cell_type": "code",
   "execution_count": 16,
   "id": "41618bb6",
   "metadata": {},
   "outputs": [
    {
     "name": "stdout",
     "output_type": "stream",
     "text": [
      "+------+-------+------+\n",
      "|userId|movieId|rating|\n",
      "+------+-------+------+\n",
      "|     1|      1|   4.0|\n",
      "|     1|      3|   4.0|\n",
      "|     1|      6|   4.0|\n",
      "|     1|     47|   5.0|\n",
      "|     1|     50|   5.0|\n",
      "|     1|     70|   3.0|\n",
      "|     1|    101|   5.0|\n",
      "|     1|    110|   4.0|\n",
      "|     1|    151|   5.0|\n",
      "|     1|    157|   5.0|\n",
      "|     1|    163|   5.0|\n",
      "|     1|    216|   5.0|\n",
      "|     1|    223|   3.0|\n",
      "|     1|    231|   5.0|\n",
      "|     1|    235|   4.0|\n",
      "|     1|    260|   5.0|\n",
      "|     1|    296|   3.0|\n",
      "|     1|    316|   3.0|\n",
      "|     1|    333|   5.0|\n",
      "|     1|    349|   4.0|\n",
      "+------+-------+------+\n",
      "only showing top 20 rows\n",
      "\n"
     ]
    }
   ],
   "source": [
    "movie_ratings = ratings_df.drop('timestamp')\n",
    "movie_ratings.show()"
   ]
  },
  {
   "cell_type": "code",
   "execution_count": 17,
   "id": "1b7e5949",
   "metadata": {},
   "outputs": [
    {
     "name": "stdout",
     "output_type": "stream",
     "text": [
      "root\n",
      " |-- userId: string (nullable = true)\n",
      " |-- movieId: string (nullable = true)\n",
      " |-- rating: string (nullable = true)\n",
      "\n"
     ]
    }
   ],
   "source": [
    "# check data type\n",
    "movie_ratings.printSchema()"
   ]
  },
  {
   "cell_type": "code",
   "execution_count": 18,
   "id": "42828dee",
   "metadata": {},
   "outputs": [],
   "source": [
    "# convert data type\n",
    "from pyspark.sql.types import IntegerType, FloatType\n",
    "movie_ratings = movie_ratings.withColumn('userId', movie_ratings['userId'].cast(IntegerType()))\n",
    "movie_ratings = movie_ratings.withColumn('movieId', movie_ratings['movieId'].cast(IntegerType()))\n",
    "movie_ratings = movie_ratings.withColumn('rating', movie_ratings['rating'].cast(FloatType()))"
   ]
  },
  {
   "cell_type": "code",
   "execution_count": 19,
   "id": "a82d045c",
   "metadata": {},
   "outputs": [
    {
     "data": {
      "text/html": [
       "<div>\n",
       "<style scoped>\n",
       "    .dataframe tbody tr th:only-of-type {\n",
       "        vertical-align: middle;\n",
       "    }\n",
       "\n",
       "    .dataframe tbody tr th {\n",
       "        vertical-align: top;\n",
       "    }\n",
       "\n",
       "    .dataframe thead th {\n",
       "        text-align: right;\n",
       "    }\n",
       "</style>\n",
       "<table border=\"1\" class=\"dataframe\">\n",
       "  <thead>\n",
       "    <tr style=\"text-align: right;\">\n",
       "      <th></th>\n",
       "      <th>rating</th>\n",
       "      <th>count</th>\n",
       "    </tr>\n",
       "  </thead>\n",
       "  <tbody>\n",
       "    <tr>\n",
       "      <th>0</th>\n",
       "      <td>5.0</td>\n",
       "      <td>13211</td>\n",
       "    </tr>\n",
       "    <tr>\n",
       "      <th>1</th>\n",
       "      <td>2.5</td>\n",
       "      <td>5550</td>\n",
       "    </tr>\n",
       "    <tr>\n",
       "      <th>2</th>\n",
       "      <td>2.0</td>\n",
       "      <td>7551</td>\n",
       "    </tr>\n",
       "    <tr>\n",
       "      <th>3</th>\n",
       "      <td>3.0</td>\n",
       "      <td>20047</td>\n",
       "    </tr>\n",
       "    <tr>\n",
       "      <th>4</th>\n",
       "      <td>1.5</td>\n",
       "      <td>1791</td>\n",
       "    </tr>\n",
       "    <tr>\n",
       "      <th>5</th>\n",
       "      <td>0.5</td>\n",
       "      <td>1370</td>\n",
       "    </tr>\n",
       "    <tr>\n",
       "      <th>6</th>\n",
       "      <td>3.5</td>\n",
       "      <td>13136</td>\n",
       "    </tr>\n",
       "    <tr>\n",
       "      <th>7</th>\n",
       "      <td>1.0</td>\n",
       "      <td>2811</td>\n",
       "    </tr>\n",
       "    <tr>\n",
       "      <th>8</th>\n",
       "      <td>4.5</td>\n",
       "      <td>8551</td>\n",
       "    </tr>\n",
       "    <tr>\n",
       "      <th>9</th>\n",
       "      <td>4.0</td>\n",
       "      <td>26818</td>\n",
       "    </tr>\n",
       "  </tbody>\n",
       "</table>\n",
       "</div>"
      ],
      "text/plain": [
       "   rating  count\n",
       "0     5.0  13211\n",
       "1     2.5   5550\n",
       "2     2.0   7551\n",
       "3     3.0  20047\n",
       "4     1.5   1791\n",
       "5     0.5   1370\n",
       "6     3.5  13136\n",
       "7     1.0   2811\n",
       "8     4.5   8551\n",
       "9     4.0  26818"
      ]
     },
     "execution_count": 19,
     "metadata": {},
     "output_type": "execute_result"
    }
   ],
   "source": [
    "# rating count\n",
    "rating_count = movie_ratings.select('rating').groupBy('rating').count().toPandas()\n",
    "rating_count"
   ]
  },
  {
   "cell_type": "code",
   "execution_count": 20,
   "id": "9b22cb7b",
   "metadata": {},
   "outputs": [
    {
     "data": {
      "image/png": "[encoded data removed]",
      "text/plain": [
       "<Figure size 864x432 with 1 Axes>"
      ]
     },
     "metadata": {
      "needs_background": "light"
     },
     "output_type": "display_data"
    }
   ],
   "source": [
    "# bar chart\n",
    "plt.figure(figsize=[12,6])\n",
    "plt.bar(x='rating', height='count', data=rating_count, width=0.5)\n",
    "plt.title('Ratings Distuibution')\n",
    "plt.xticks(np.arange(0.5, 5.5, 0.5))\n",
    "plt.show()"
   ]
  },
  {
   "cell_type": "code",
   "execution_count": 21,
   "id": "37cb2ef1",
   "metadata": {},
   "outputs": [],
   "source": [
    "from pyspark.sql.functions import avg"
   ]
  },
  {
   "cell_type": "code",
   "execution_count": 22,
   "id": "e8833080",
   "metadata": {},
   "outputs": [
    {
     "data": {
      "text/html": [
       "<div>\n",
       "<style scoped>\n",
       "    .dataframe tbody tr th:only-of-type {\n",
       "        vertical-align: middle;\n",
       "    }\n",
       "\n",
       "    .dataframe tbody tr th {\n",
       "        vertical-align: top;\n",
       "    }\n",
       "\n",
       "    .dataframe thead th {\n",
       "        text-align: right;\n",
       "    }\n",
       "</style>\n",
       "<table border=\"1\" class=\"dataframe\">\n",
       "  <thead>\n",
       "    <tr style=\"text-align: right;\">\n",
       "      <th></th>\n",
       "      <th>movieId</th>\n",
       "      <th>avg_rating</th>\n",
       "    </tr>\n",
       "  </thead>\n",
       "  <tbody>\n",
       "    <tr>\n",
       "      <th>0</th>\n",
       "      <td>1580</td>\n",
       "      <td>3.487879</td>\n",
       "    </tr>\n",
       "    <tr>\n",
       "      <th>1</th>\n",
       "      <td>2366</td>\n",
       "      <td>3.640000</td>\n",
       "    </tr>\n",
       "    <tr>\n",
       "      <th>2</th>\n",
       "      <td>3175</td>\n",
       "      <td>3.580000</td>\n",
       "    </tr>\n",
       "    <tr>\n",
       "      <th>3</th>\n",
       "      <td>1088</td>\n",
       "      <td>3.369048</td>\n",
       "    </tr>\n",
       "    <tr>\n",
       "      <th>4</th>\n",
       "      <td>32460</td>\n",
       "      <td>4.250000</td>\n",
       "    </tr>\n",
       "  </tbody>\n",
       "</table>\n",
       "</div>"
      ],
      "text/plain": [
       "   movieId  avg_rating\n",
       "0     1580    3.487879\n",
       "1     2366    3.640000\n",
       "2     3175    3.580000\n",
       "3     1088    3.369048\n",
       "4    32460    4.250000"
      ]
     },
     "execution_count": 22,
     "metadata": {},
     "output_type": "execute_result"
    }
   ],
   "source": [
    "rating_average = movie_ratings.groupBy('movieId').agg(avg('rating').alias(\"avg_rating\")).toPandas()\n",
    "rating_average.head()"
   ]
  },
  {
   "cell_type": "code",
   "execution_count": 23,
   "id": "4bb222ee",
   "metadata": {},
   "outputs": [
    {
     "data": {
      "text/plain": [
       "1286"
      ]
     },
     "execution_count": 23,
     "metadata": {},
     "output_type": "execute_result"
    }
   ],
   "source": [
    "rating_average.avg_rating.nunique()"
   ]
  },
  {
   "cell_type": "markdown",
   "id": "7303dd26",
   "metadata": {},
   "source": [
    "# Part 4 ALS model selection and evaluation"
   ]
  },
  {
   "cell_type": "code",
   "execution_count": 32,
   "id": "204f364d",
   "metadata": {},
   "outputs": [],
   "source": [
    "# import package\n",
    "from pyspark.ml.evaluation import RegressionEvaluator\n",
    "from pyspark.ml.recommendation import ALS\n",
    "from pyspark.ml.tuning import CrossValidator, ParamGridBuilder"
   ]
  },
  {
   "cell_type": "code",
   "execution_count": 38,
   "id": "b34f7466",
   "metadata": {},
   "outputs": [],
   "source": [
    "# split train and test data\n",
    "(train,test) = movie_ratings.randomSplit([0.8,0.2])"
   ]
  },
  {
   "cell_type": "code",
   "execution_count": 39,
   "id": "eeb7c154",
   "metadata": {},
   "outputs": [],
   "source": [
    "# create ALS model\n",
    "model_als = ALS(maxIter=5, rank=10, regParam=0.1, userCol='userId', itemCol='movieId', ratingCol='rating',\\\n",
    "                coldStartStrategy='drop', seed=6)\n"
   ]
  },
  {
   "cell_type": "code",
   "execution_count": 41,
   "id": "446c05e9",
   "metadata": {},
   "outputs": [],
   "source": [
    " # tune model using ParamGridBuilder\n",
    "params = ParamGridBuilder().addGrid(model_als.maxIter,[3,5,10])\\\n",
    "                           .addGrid(model_als.regParam,[0.1,0.01,0.001])\\\n",
    "                           .addGrid(model_als.rank,[5,10,15,20,25])\\\n",
    "                           .addGrid(model_als.alpha,[0.1,0.01,0.001]).build()\n"
   ]
  },
  {
   "cell_type": "code",
   "execution_count": 42,
   "id": "576d2738",
   "metadata": {},
   "outputs": [],
   "source": [
    "# define evaluator \n",
    "evaluator = RegressionEvaluator(metricName='rmse', labelCol='rating', predictionCol='prediction')\n"
   ]
  },
  {
   "cell_type": "code",
   "execution_count": 44,
   "id": "1f066040",
   "metadata": {},
   "outputs": [],
   "source": [
    "# build cross validation\n",
    "cv = CrossValidator(estimator=model_als, estimatorParamMaps=params, evaluator=evaluator)\n"
   ]
  },
  {
   "cell_type": "code",
   "execution_count": 45,
   "id": "c94f3246",
   "metadata": {},
   "outputs": [
    {
     "name": "stderr",
     "output_type": "stream",
     "text": [
      "                                                                                \r"
     ]
    },
    {
     "name": "stdout",
     "output_type": "stream",
     "text": [
      "23/02/27 20:32:48 WARN CacheManager: Asked to cache already cached data.\n",
      "23/02/27 20:32:48 WARN CacheManager: Asked to cache already cached data.\n"
     ]
    },
    {
     "name": "stderr",
     "output_type": "stream",
     "text": [
      "                                                                                \r"
     ]
    }
   ],
   "source": [
    "# fit train data\n",
    "cvModel = cv.fit(train)"
   ]
  },
  {
   "cell_type": "code",
   "execution_count": 48,
   "id": "edb203e6",
   "metadata": {},
   "outputs": [
    {
     "name": "stdout",
     "output_type": "stream",
     "text": [
      "maxIter:10\n",
      "regParam:0.1\n",
      "rank:25\n",
      "alpha:0.1\n"
     ]
    }
   ],
   "source": [
    "# check the best parameters\n",
    "best_params = cvModel.getEstimatorParamMaps()[np.argmin(cvModel.avgMetrics)]\n",
    "for i,j in best_params.items():\n",
    "    print(i.name+':'+str(j))"
   ]
  },
  {
   "cell_type": "code",
   "execution_count": 54,
   "id": "4129f293",
   "metadata": {},
   "outputs": [
    {
     "data": {
      "text/plain": [
       "0.48548542697554764"
      ]
     },
     "execution_count": 54,
     "metadata": {},
     "output_type": "execute_result"
    }
   ],
   "source": [
    "# evaluate \n",
    "prediction_train = cvModel.transform(train)\n",
    "rmse_train = evaluator.evaluate(prediction_train)\n",
    "rmse_train"
   ]
  },
  {
   "cell_type": "code",
   "execution_count": 49,
   "id": "ff69e0b0",
   "metadata": {},
   "outputs": [],
   "source": [
    "# extract test model\n",
    "bestModel =cvModel.bestModel"
   ]
  },
  {
   "cell_type": "markdown",
   "id": "b871fd3e",
   "metadata": {},
   "source": [
    "# Part 5 model test"
   ]
  },
  {
   "cell_type": "code",
   "execution_count": 52,
   "id": "8c8cd60e",
   "metadata": {},
   "outputs": [
    {
     "data": {
      "text/plain": [
       "0.8776782142435801"
      ]
     },
     "execution_count": 52,
     "metadata": {},
     "output_type": "execute_result"
    }
   ],
   "source": [
    "# generate prediciton and check the test error\n",
    "prediction = bestModel.transform(test)\n",
    "rmse = evaluator.evaluate(prediction)\n",
    "rmse"
   ]
  },
  {
   "cell_type": "code",
   "execution_count": 55,
   "id": "42b19c3b",
   "metadata": {},
   "outputs": [
    {
     "name": "stdout",
     "output_type": "stream",
     "text": [
      "+------+-------+------+----------+\n",
      "|userId|movieId|rating|prediction|\n",
      "+------+-------+------+----------+\n",
      "|   148|   1197|   3.0| 3.4633274|\n",
      "|   148|   4308|   4.0| 3.6774917|\n",
      "|   148|  40629|   5.0| 3.4890938|\n",
      "|   148|  54001|   4.0|   3.63857|\n",
      "|   148|  79132|   1.5| 3.5820506|\n",
      "|   148|  79702|   4.0| 3.4257152|\n",
      "|   148|  89745|   4.0| 3.5875793|\n",
      "|   148|  98491|   5.0| 3.4165752|\n",
      "|   148| 112175|   2.5| 3.6505506|\n",
      "|   463|   1221|   4.5| 3.9883308|\n",
      "|   463|   2019|   4.0| 3.5806816|\n",
      "|   463|   3448|   3.0| 3.5565608|\n",
      "|   463|   3753|   4.0| 3.7614152|\n",
      "|   463|   5952|   5.0| 3.9929688|\n",
      "|   463|  36529|   4.5| 3.8292572|\n",
      "|   471|      1|   5.0| 3.6350136|\n",
      "|   471|    296|   4.0| 4.2042336|\n",
      "|   471|   6539|   3.5|   3.06295|\n",
      "|   471| 158966|   4.5| 4.2979445|\n",
      "|   471| 168252|   4.5|  4.092798|\n",
      "+------+-------+------+----------+\n",
      "only showing top 20 rows\n",
      "\n"
     ]
    }
   ],
   "source": [
    "prediction.show()"
   ]
  },
  {
   "cell_type": "code",
   "execution_count": 57,
   "id": "f5ad2524",
   "metadata": {},
   "outputs": [
    {
     "data": {
      "text/plain": [
       "0.5828092256836866"
      ]
     },
     "execution_count": 57,
     "metadata": {},
     "output_type": "execute_result"
    }
   ],
   "source": [
    "# model apply\n",
    "alldata = bestModel.transform(movie_ratings)\n",
    "rmse_all = evaluator.evaluate(alldata)\n",
    "rmse_all"
   ]
  },
  {
   "cell_type": "code",
   "execution_count": 59,
   "id": "29b841ea",
   "metadata": {},
   "outputs": [],
   "source": [
    "alldata.createOrReplaceTempView('alldata')"
   ]
  },
  {
   "cell_type": "code",
   "execution_count": 60,
   "id": "05145b1a",
   "metadata": {},
   "outputs": [
    {
     "name": "stdout",
     "output_type": "stream",
     "text": [
      "+------+-------+------+----------+\n",
      "|userId|movieId|rating|prediction|\n",
      "+------+-------+------+----------+\n",
      "|   148|    356|   4.0| 3.8530784|\n",
      "|   148|   1197|   3.0| 3.4633274|\n",
      "|   148|   4308|   4.0| 3.6774917|\n",
      "|   148|   4886|   3.0| 3.4871778|\n",
      "|   148|   4896|   4.0| 3.5922334|\n",
      "|   148|   4993|   3.0|   3.30745|\n",
      "|   148|   5618|   3.0| 3.4157777|\n",
      "|   148|   5816|   4.0| 3.6077504|\n",
      "|   148|   5952|   3.0| 3.3397436|\n",
      "|   148|   6377|   3.0| 3.6263037|\n",
      "|   148|   7153|   3.0| 3.2705426|\n",
      "|   148|   8368|   4.0| 3.7651243|\n",
      "|   148|  30816|   5.0|  4.009095|\n",
      "|   148|  31658|   4.0| 3.7599876|\n",
      "|   148|  40629|   5.0| 3.4890938|\n",
      "|   148|  40815|   4.0| 3.6633637|\n",
      "|   148|  44191|   4.0| 3.5885003|\n",
      "|   148|  50872|   3.0| 3.5472498|\n",
      "|   148|  54001|   4.0|   3.63857|\n",
      "|   148|  60069|   4.5| 3.8708758|\n",
      "+------+-------+------+----------+\n",
      "only showing top 20 rows\n",
      "\n"
     ]
    }
   ],
   "source": [
    "pred_all = spark.sql(\"\"\"select *\n",
    "                    from alldata\n",
    "\"\"\")\n",
    "pred_all.show()"
   ]
  },
  {
   "cell_type": "code",
   "execution_count": 62,
   "id": "3ce6bbf6",
   "metadata": {},
   "outputs": [
    {
     "name": "stdout",
     "output_type": "stream",
     "text": [
      "+-------+--------------------+--------------------+------+-------+------+----------+\n",
      "|movieId|               title|              genres|userId|movieId|rating|prediction|\n",
      "+-------+--------------------+--------------------+------+-------+------+----------+\n",
      "|    356| Forrest Gump (1994)|Comedy|Drama|Roma...|   148|    356|   4.0| 3.8530784|\n",
      "|   1197|Princess Bride, T...|Action|Adventure|...|   148|   1197|   3.0| 3.4633274|\n",
      "|   4308| Moulin Rouge (2001)|Drama|Musical|Rom...|   148|   4308|   4.0| 3.6774917|\n",
      "|   4886|Monsters, Inc. (2...|Adventure|Animati...|   148|   4886|   3.0| 3.4871778|\n",
      "|   4896|Harry Potter and ...|Adventure|Childre...|   148|   4896|   4.0| 3.5922334|\n",
      "|   4993|Lord of the Rings...|   Adventure|Fantasy|   148|   4993|   3.0|   3.30745|\n",
      "|   5618|Spirited Away (Se...|Adventure|Animati...|   148|   5618|   3.0| 3.4157777|\n",
      "|   5816|Harry Potter and ...|   Adventure|Fantasy|   148|   5816|   4.0| 3.6077504|\n",
      "|   5952|Lord of the Rings...|   Adventure|Fantasy|   148|   5952|   3.0| 3.3397436|\n",
      "|   6377| Finding Nemo (2003)|Adventure|Animati...|   148|   6377|   3.0| 3.6263037|\n",
      "|   7153|Lord of the Rings...|Action|Adventure|...|   148|   7153|   3.0| 3.2705426|\n",
      "|   8368|Harry Potter and ...|Adventure|Fantasy...|   148|   8368|   4.0| 3.7651243|\n",
      "|  30816|Phantom of the Op...|Drama|Musical|Rom...|   148|  30816|   5.0|  4.009095|\n",
      "|  31658|Howl's Moving Cas...|Adventure|Animati...|   148|  31658|   4.0| 3.7599876|\n",
      "|  40629|Pride & Prejudice...|       Drama|Romance|   148|  40629|   5.0| 3.4890938|\n",
      "|  40815|Harry Potter and ...|Adventure|Fantasy...|   148|  40815|   4.0| 3.6633637|\n",
      "|  44191|V for Vendetta (2...|Action|Sci-Fi|Thr...|   148|  44191|   4.0| 3.5885003|\n",
      "|  50872|  Ratatouille (2007)|Animation|Childre...|   148|  50872|   3.0| 3.5472498|\n",
      "|  54001|Harry Potter and ...|Adventure|Drama|F...|   148|  54001|   4.0|   3.63857|\n",
      "|  60069|       WALL·E (2008)|Adventure|Animati...|   148|  60069|   4.5| 3.8708758|\n",
      "+-------+--------------------+--------------------+------+-------+------+----------+\n",
      "only showing top 20 rows\n",
      "\n"
     ]
    }
   ],
   "source": [
    "pred_merge = spark.sql(\"\"\"select *\n",
    "                          from movies_df\n",
    "                          join alldata on movies_df.movieId = alldata.movieId\n",
    "\"\"\")\n",
    "pred_merge.show()"
   ]
  },
  {
   "cell_type": "code",
   "execution_count": 70,
   "id": "c7c482ba",
   "metadata": {},
   "outputs": [],
   "source": [
    "# recommend movie to a specific user\n",
    "\n",
    "def top_recommend(k,id,model):\n",
    "    all_recommend = model.recommendForAllUsers(k)\n",
    "    user_recommend = all_recommend.where(all_recommend.userId==id).toPandas()\n",
    "    if user_recommend.shape[0]==0:\n",
    "        print('No user with id'+str(id)+'is found in the data.')\n",
    "        return None\n",
    "    user_recommend = user_recommend.iloc[0,1]\n",
    "    user_recommend = pd.DataFrame(user_recommend, columns=['movieId','predicted_ratings'])\n",
    "    temp = None\n",
    "    for i in user_recommend['movieId']:\n",
    "        if not temp:\n",
    "            temp = movies_df.where(movies_df.movieId==str(i))\n",
    "        else:\n",
    "            temp = temp.union(movies_df.where(movies_df.movieId==str(i)))\n",
    "    out = pd.concat([temp.toPandas(),user_recommend['predicted_ratings']],axis=1)\n",
    "    out.index = range(1,k+1)\n",
    "    return out"
   ]
  },
  {
   "cell_type": "code",
   "execution_count": 73,
   "id": "34c9c58e",
   "metadata": {},
   "outputs": [
    {
     "data": {
      "text/html": [
       "<div>\n",
       "<style scoped>\n",
       "    .dataframe tbody tr th:only-of-type {\n",
       "        vertical-align: middle;\n",
       "    }\n",
       "\n",
       "    .dataframe tbody tr th {\n",
       "        vertical-align: top;\n",
       "    }\n",
       "\n",
       "    .dataframe thead th {\n",
       "        text-align: right;\n",
       "    }\n",
       "</style>\n",
       "<table border=\"1\" class=\"dataframe\">\n",
       "  <thead>\n",
       "    <tr style=\"text-align: right;\">\n",
       "      <th></th>\n",
       "      <th>movieId</th>\n",
       "      <th>title</th>\n",
       "      <th>genres</th>\n",
       "      <th>predicted_ratings</th>\n",
       "    </tr>\n",
       "  </thead>\n",
       "  <tbody>\n",
       "    <tr>\n",
       "      <th>1</th>\n",
       "      <td>33649</td>\n",
       "      <td>Saving Face (2004)</td>\n",
       "      <td>Comedy|Drama|Romance</td>\n",
       "      <td>4.191678</td>\n",
       "    </tr>\n",
       "    <tr>\n",
       "      <th>2</th>\n",
       "      <td>171495</td>\n",
       "      <td>Cosmos</td>\n",
       "      <td>(no genres listed)</td>\n",
       "      <td>4.163624</td>\n",
       "    </tr>\n",
       "    <tr>\n",
       "      <th>3</th>\n",
       "      <td>916</td>\n",
       "      <td>Roman Holiday (1953)</td>\n",
       "      <td>Comedy|Drama|Romance</td>\n",
       "      <td>4.123850</td>\n",
       "    </tr>\n",
       "    <tr>\n",
       "      <th>4</th>\n",
       "      <td>7121</td>\n",
       "      <td>Adam's Rib (1949)</td>\n",
       "      <td>Comedy|Romance</td>\n",
       "      <td>4.081703</td>\n",
       "    </tr>\n",
       "    <tr>\n",
       "      <th>5</th>\n",
       "      <td>68954</td>\n",
       "      <td>Up (2009)</td>\n",
       "      <td>Adventure|Animation|Children|Drama</td>\n",
       "      <td>4.054704</td>\n",
       "    </tr>\n",
       "    <tr>\n",
       "      <th>6</th>\n",
       "      <td>81847</td>\n",
       "      <td>Tangled (2010)</td>\n",
       "      <td>Animation|Children|Comedy|Fantasy|Musical|Roma...</td>\n",
       "      <td>4.043407</td>\n",
       "    </tr>\n",
       "    <tr>\n",
       "      <th>7</th>\n",
       "      <td>26471</td>\n",
       "      <td>Eddie Murphy Delirious (1983)</td>\n",
       "      <td>Comedy|Documentary</td>\n",
       "      <td>4.042921</td>\n",
       "    </tr>\n",
       "    <tr>\n",
       "      <th>8</th>\n",
       "      <td>3379</td>\n",
       "      <td>On the Beach (1959)</td>\n",
       "      <td>Drama</td>\n",
       "      <td>4.033533</td>\n",
       "    </tr>\n",
       "    <tr>\n",
       "      <th>9</th>\n",
       "      <td>170705</td>\n",
       "      <td>Band of Brothers (2001)</td>\n",
       "      <td>Action|Drama|War</td>\n",
       "      <td>4.032785</td>\n",
       "    </tr>\n",
       "    <tr>\n",
       "      <th>10</th>\n",
       "      <td>3022</td>\n",
       "      <td>General, The (1926)</td>\n",
       "      <td>Comedy|War</td>\n",
       "      <td>4.014901</td>\n",
       "    </tr>\n",
       "  </tbody>\n",
       "</table>\n",
       "</div>"
      ],
      "text/plain": [
       "   movieId                          title  \\\n",
       "1    33649             Saving Face (2004)   \n",
       "2   171495                         Cosmos   \n",
       "3      916           Roman Holiday (1953)   \n",
       "4     7121              Adam's Rib (1949)   \n",
       "5    68954                      Up (2009)   \n",
       "6    81847                 Tangled (2010)   \n",
       "7    26471  Eddie Murphy Delirious (1983)   \n",
       "8     3379            On the Beach (1959)   \n",
       "9   170705        Band of Brothers (2001)   \n",
       "10    3022            General, The (1926)   \n",
       "\n",
       "                                               genres  predicted_ratings  \n",
       "1                                Comedy|Drama|Romance           4.191678  \n",
       "2                                  (no genres listed)           4.163624  \n",
       "3                                Comedy|Drama|Romance           4.123850  \n",
       "4                                      Comedy|Romance           4.081703  \n",
       "5                  Adventure|Animation|Children|Drama           4.054704  \n",
       "6   Animation|Children|Comedy|Fantasy|Musical|Roma...           4.043407  \n",
       "7                                  Comedy|Documentary           4.042921  \n",
       "8                                               Drama           4.033533  \n",
       "9                                    Action|Drama|War           4.032785  \n",
       "10                                         Comedy|War           4.014901  "
      ]
     },
     "execution_count": 73,
     "metadata": {},
     "output_type": "execute_result"
    }
   ],
   "source": [
    "# top 10 recommendation for user 148\n",
    "top_recommend(10,148,bestModel)"
   ]
  },
  {
   "cell_type": "code",
   "execution_count": null,
   "id": "2229efcb",
   "metadata": {},
   "outputs": [],
   "source": []
  }
 ],
 "metadata": {
  "kernelspec": {
   "display_name": "Python 3 (ipykernel)",
   "language": "python",
   "name": "python3"
  },
  "language_info": {
   "codemirror_mode": {
    "name": "ipython",
    "version": 3
   },
   "file_extension": ".py",
   "mimetype": "text/x-python",
   "name": "python",
   "nbconvert_exporter": "python",
   "pygments_lexer": "ipython3",
   "version": "3.9.12"
  }
 },
 "nbformat": 4,
 "nbformat_minor": 5
}
